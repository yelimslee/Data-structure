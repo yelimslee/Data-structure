{
  "nbformat": 4,
  "nbformat_minor": 0,
  "metadata": {
    "colab": {
      "provenance": [],
      "toc_visible": true,
      "include_colab_link": true
    },
    "kernelspec": {
      "name": "python3",
      "display_name": "Python 3"
    },
    "language_info": {
      "name": "python"
    }
  },
  "cells": [
    {
      "cell_type": "markdown",
      "metadata": {
        "id": "view-in-github",
        "colab_type": "text"
      },
      "source": [
        "<a href=\"https://colab.research.google.com/github/yelimslee/Data-structure/blob/main/DFS.ipynb\" target=\"_parent\"><img src=\"https://colab.research.google.com/assets/colab-badge.svg\" alt=\"Open In Colab\"/></a>"
      ]
    },
    {
      "cell_type": "markdown",
      "source": [
        "# ****DFS의 개념과 재귀적 접근 방법****\n",
        "\n",
        "깊이 우선 탐색(Depth First Search, DFS)은 시작 정점에서 가장 깊숙한 곳까지 탐색을 진행하며, 더 이상 진행할 수 없을 때 이전 단계로 돌아와 다음 경로를 탐색하는 방식으로 작동합니다. 이번 콘텐츠에서는 DFS의 원리, 구현 방법, 그리고 어떻게 활용되는지에 대해 함께 알아보겠습니다."
      ],
      "metadata": {
        "id": "c_5jRIUfnWVS"
      }
    },
    {
      "cell_type": "markdown",
      "source": [
        "## **깊이 우선 탐색(Depth First Search, DFS)이란?**\n",
        "\n",
        "![image (7)](https://github.com/codestates-seb/seb39_main_019/assets/75019459/0c580a64-e4ea-44d5-a7e6-b8043701eeb5)\n",
        "\n",
        "깊이 우선 탐색, 또는 DFS는 시작 정점에서 가능한 한 깊이 들어가 탐색을 진행하며, 더 이상 방문할 곳이 없을 때 이전 단계로 돌아와 다른 경로를 탐색하는 알고리즘입니다. 즉, 하나의 경로를 완전히 탐색한 후에 다른 경로로 이동합니다."
      ],
      "metadata": {
        "id": "WNAga91tnXU7"
      }
    },
    {
      "cell_type": "markdown",
      "source": [
        "## **DFS의 동작 원리**\n",
        "\n",
        "1. 먼저, 한 분기를 완전히 탐색합니다.\n",
        "2. 만약 더 이상 탐색할 수 없는 상태가 되면, 이전 분기로 돌아가 다음 분기를 탐색합니다.\n",
        "    - 이 방식은 하나의 경로를 끝까지 탐색한 후 다음 경로로 넘어가므로, 똑똑하게 선택한다면 목표지점을 빠르게 찾아낼 수 있습니다.\n",
        "    - BFS에 비해 탐색 시간이 약간 더 걸릴 수는 있지만, 이는 모든 정점을 완전히 탐색하는 데 필요한 투자로 생각하면 좋습니다. BFS를 사용하면 가장 먼저 발견한 경로에 관계없이 모든 경로를 살펴봐야 합니다.\n",
        "    - 현재 경로에 있는 정점들만 기억하면 되므로, 메모리 사용량은 비교적 적습니다. 또한, 목표 정점이 깊이 있는 곳에 위치해 있다면, DFS를 사용하면 빠르게 답을 찾을 수 있습니다.\n",
        "3. 그러나 DFS는 그래프 내의 순환 구조를 반드시 고려해야 합니다. 방문했던 정점을 다시 방문하지 않도록 주의해야 합니다.\n",
        "    - 이는 반복적으로 동일한 정점에 도달하는 경우, 무한 루프에 빠질 수 있기 때문입니다. 이를 피하기 위해 실제 애플리케이션에서는 종종 탐색 깊이를 미리 지정하고, 목표 정점을 발견하지 못하면 다른 경로로 탐색하는 전략을 사용합니다.\n",
        "    - DFS를 사용하면 항상 최단 경로를 찾아주지는 않습니다. 여러 경로가 존재하고 목표 정점에 도달할 수 있는 경우, DFS는 처음 도달한 경로를 선택할 수 있으며, 이는 반드시 최적의 경로라는 보장이 없습니다."
      ],
      "metadata": {
        "id": "tgmuncr-nZwH"
      }
    },
    {
      "cell_type": "markdown",
      "source": [
        "\n",
        "## ****DFS(깊이 우선 탐색)의 재귀적 접근 방법****\n",
        "\n",
        "DFS를 재귀적으로 구현하는 방법은 다음과 같습니다.\n",
        "\n",
        "1. 방문한 정점을 표시하기 위한 배열을 생성합니다.\n",
        "2. 현재 정점을 확인합니다. 최초 실행시에는 일반적으로 root(최상위 노드)부터 탐색을 시작합니다.\n",
        "3. 해당 현재 정점의 방문여부를 체크합니다. (방문했다고 표기 변경)\n",
        "4. 현재 정점과 인접한 정점이 있는지 확인하고, 방문 여부를 확인합니다.\n",
        "5. 인접한 정점 중에서 방문하지 않은 정점이 있다면, 해당 정점을 방문했다고 표시하고 2~5번 과정을 재귀 호출하여 해당 정점을 현재 정점으로 설정합니다.\n",
        "6. 모든 정점을 방문할 때까지 2~5 단계를 반복합니다.\n",
        "\n",
        "아래  코드예제와 함께 살펴보도록 하겠습니다."
      ],
      "metadata": {
        "id": "Uh2ysAWFndAS"
      }
    },
    {
      "cell_type": "code",
      "source": [
        "def dfs(graph, node, visited):\n",
        "    # 현재 노드를 방문 처리\n",
        "    visited[node] = True\n",
        "    print(node, end=' ')\n",
        "\n",
        "    # 현재 노드와 연결된 다른 노드를 재귀적으로 방문\n",
        "    for neighbor in range(len(graph[node])):\n",
        "        if graph[node][neighbor] == 1 and not visited[neighbor]:\n",
        "            dfs(graph, neighbor, visited)\n",
        "\n",
        "# 인접 행렬로 표현된 그래프\n",
        "graph = [\n",
        "    [0, 0, 0, 0, 0],\n",
        "    [0, 0, 1, 1, 0],\n",
        "    [0, 1, 0, 0, 1],\n",
        "    [0, 1, 0, 0, 1],\n",
        "    [0, 0, 1, 1, 0]\n",
        "]\n",
        "\n",
        "# 방문 정보\n",
        "visited = [False] * 5\n",
        "\n",
        "# DFS 함수 호출\n",
        "dfs(graph, 1, visited)"
      ],
      "metadata": {
        "id": "GHjGwRqhndk3"
      },
      "execution_count": null,
      "outputs": []
    },
    {
      "cell_type": "markdown",
      "source": [
        "이 코드는 노드 1에서 시작하여 그래프를 깊이 우선으로 탐색합니다.위의 코드는 5개의 노드로 구성된 그래프를 인접 행렬로 표현하며, 노드 1에서 시작하여 깊이 우선으로 탐색합니다."
      ],
      "metadata": {
        "id": "5Kk_7ga2nftF"
      }
    },
    {
      "cell_type": "markdown",
      "source": [
        "\n",
        "## ****그래프의 깊이 우선 탐색 순서****\n",
        "\n",
        "깊이 우선 탐색의 순서는 다음과 같습니다.\n",
        "\n",
        "1. 시작 정점을 방문합니다. 시작 정점은 탐색의 출발점이며, 방문 여부를 표시합니다.\n",
        "2. 시작 정점과 인접한 정점들 중에서 아직 방문하지 않은 정점을 선택하여 탐색을 진행합니다. DFS에서는 인접한 정점들 중 첫 번째 정점을 선택하는 것을 원칙으로 합니다.\n",
        "3. 선택한 정점으로 이동하고, 그 정점을 방문한 것으로 표시합니다.\n",
        "4. 방문한 정점에서 다시 인접한 정점들 중에서 아직 방문하지 않은 정점을 선택하여 탐색을 진행합니다. 이 과정을 재귀적으로 반복합니다. 즉, DFS는 한 정점의 탐색이 완전히 끝날 때까지 해당 정점의 자식 정점들을 우선적으로 탐색하는 방식을 취합니다.\n",
        "5. 더 이상 방문할 정점이 없거나, 모든 정점을 방문했을 경우, 그 시점에서의 탐색을 마무리합니다.\n",
        "6. 탐색을 마친 후에는 이전 정점으로 돌아가서 다른 후행 정점을 탐색합니다. 이 과정을 재귀적으로 반복하여 모든 정점을 방문합니다.\n",
        "\n",
        "이렇게 하면, DFS를 통해 그래프의 모든 정점을 체계적이고 효과적으로 방문할 수 있습니다. 이 때, 각 단계에서의 선택과 진행 과정을 이해하고 체크해가며 진행하는 것이 중요합니다.\n",
        "\n",
        "다음은 깊이 우선 탐색의 과정을 시각적으로 이해하기 위해 준비한 그래프의 예시입니다:"
      ],
      "metadata": {
        "id": "9jFJ-hLonhdt"
      }
    },
    {
      "cell_type": "code",
      "source": [
        "0---1---2\n",
        "    |  /\n",
        "   /  /\n",
        "  /  /\n",
        "3---4---5"
      ],
      "metadata": {
        "id": "q8nOR17Onh-Y"
      },
      "execution_count": null,
      "outputs": []
    },
    {
      "cell_type": "markdown",
      "source": [
        "코드를 실행하면 다음과 같은 결과가 출력됩니다."
      ],
      "metadata": {
        "id": "kmOECHTgnjIG"
      }
    },
    {
      "cell_type": "code",
      "source": [
        "깊이 우선 탐색 순서:\n",
        "0 1 2 4 3 5"
      ],
      "metadata": {
        "id": "zhgcshlrzHKx"
      },
      "execution_count": null,
      "outputs": []
    },
    {
      "cell_type": "markdown",
      "source": [
        "---\n",
        "\n",
        "# ****DFS 알고리즘의 구현****"
      ],
      "metadata": {
        "id": "jWU4dEq_nn3h"
      }
    },
    {
      "cell_type": "markdown",
      "source": [
        "## 스택(Stack) 자료구조를 이용한 DFS 구현\n",
        "\n",
        "DFS 알고리즘은 스택 자료 구조 또는 재귀를 이용하여 구현할 수 있습니다.\n",
        "\n",
        "스택을 사용하여 DFS 알고리즘을 구현하는 방법은 아래와 같습니다.\n",
        "\n",
        "**1. 방문한 정점 표시하기**\n",
        "\n",
        "모든 정점을 처음에는 방문하지 않은 상태로 설정합니다. 이는 **`visited`** 목록을 사용하여 관리됩니다.\n",
        "\n",
        "**2. 탐색 시작하기**\n",
        "\n",
        "탐색을 시작할 정점을 스택에 추가합니다. 스택은 나중에 들어간 항목이 먼저 나오는 자료구조입니다.\n",
        "\n",
        "**3. 스택에서 정점 꺼내기**\n",
        "\n",
        "스택에서 정점을 하나 꺼낸 후, 해당 정점이 아직 방문하지 않았다면 방문한 것으로 표시하고 결과 목록에 추가합니다.\n",
        "\n",
        "**4. 인접한 정점 탐색하기**\n",
        "\n",
        "해당 정점과 연결된 인접한 정점들을 찾아 방문하지 않은 정점을 역순으로 스택에 추가합니다.\n",
        "\n",
        "**5. 반복하기**\n",
        "\n",
        "스택이 비어 있지 않은 동안 3번과 4번을 반복합니다.\n",
        "\n",
        "**6. 결과 반환하기**\n",
        "\n",
        "모든 정점을 방문하면 탐색 결과를 반환합니다."
      ],
      "metadata": {
        "id": "tJw1Bnb2noWE"
      }
    },
    {
      "cell_type": "code",
      "source": [
        "def dfs(graph, start):\n",
        "    # 방문한 정점을 표시하는 목록을 초기화합니다. 처음에는 모든 정점을 방문하지 않은 상태로 설정합니다.\n",
        "    visited = [False] * len(graph)\n",
        "    # 탐색 결과를 저장할 목록을 초기화합니다.\n",
        "    result = []\n",
        "    # 탐색을 시작할 정점을 스택에 추가합니다.\n",
        "    stack = [start]\n",
        "\n",
        "    # 스택이 비어 있지 않은 동안 반복하여 탐색을 계속합니다.\n",
        "    while stack:\n",
        "        # 스택에서 정점을 하나 꺼냅니다.\n",
        "        vertex = stack.pop()\n",
        "        # 해당 정점이 아직 방문하지 않았다면\n",
        "        if not visited[vertex]:\n",
        "            # 해당 정점을 방문한 것으로 표시하고 결과 목록에 추가합니다.\n",
        "            visited[vertex] = True\n",
        "            result.append(vertex)\n",
        "            # 인접한 정점들 중에서 아직 방문하지 않은 정점들을 찾습니다.\n",
        "            adjacent_vertices = [i for i, val in enumerate(graph[vertex]) if val == 1]\n",
        "            # 인접한 정점들을 역순으로 스택에 추가하여 첫 번째 정점부터 탐색하도록 합니다.\n",
        "            stack += reversed(adjacent_vertices)\n",
        "\n",
        "    # 탐색이 완료된 결과를 반환합니다.\n",
        "    return result\n",
        "\n",
        "# 그래프 정보 (인접 행렬), 1은 연결되어 있음을, 0은 연결되어 있지 않음을 나타냅니다.\n",
        "graph = [\n",
        "    [0, 1, 0, 0, 0, 0],\n",
        "    [1, 0, 1, 1, 1, 0],\n",
        "    [0, 1, 0, 0, 1, 0],\n",
        "    [0, 1, 0, 0, 1, 0],\n",
        "    [0, 1, 1, 1, 0, 1],\n",
        "    [0, 0, 0, 0, 1, 0]\n",
        "]\n",
        "\n",
        "# 시작 정점을 지정합니다. 이 경우 0번 정점에서 탐색을 시작합니다.\n",
        "start_vertex = 0\n",
        "\n",
        "# 깊이 우선 탐색 함수를 호출하여 결과를 얻습니다.\n",
        "dfs_result = dfs(graph, start_vertex)\n",
        "\n",
        "print(\"깊이 우선 탐색 순서:\")\n",
        "# 결과를 출력합니다. 이는 그래프의 정점을 깊이 우선 탐색한 순서입니다.\n",
        "print(*dfs_result)"
      ],
      "metadata": {
        "id": "l2tQ3pWjnqHR",
        "colab": {
          "base_uri": "https://localhost:8080/"
        },
        "outputId": "97914f5f-54ee-49d4-98ff-844dc10b6dfc"
      },
      "execution_count": null,
      "outputs": [
        {
          "output_type": "stream",
          "name": "stdout",
          "text": [
            "[1]\n",
            "[0, 2, 3, 4]\n",
            "[1, 4]\n",
            "[1, 2, 3, 5]\n",
            "[1, 4]\n",
            "[4]\n",
            "깊이 우선 탐색 순서:\n",
            "0 1 2 4 3 5\n"
          ]
        }
      ]
    },
    {
      "cell_type": "markdown",
      "source": [
        "## 재귀 함수를 활용한 DFS 구현\n",
        "\n",
        "DFS 알고리즘은 스택 자료 구조 또는 재귀를 이용하여 구현할 수 있습니다.\n",
        "\n",
        "재귀를 사용하여 DFS 알고리즘을 구현하는 방법은 아래와 같습니다.\n",
        "\n",
        "**1. 시작 정점 방문하기**\n",
        "\n",
        "탐색을 시작할 정점을 방문하고, 이를 방문한 것으로 표시합니다.\n",
        "\n",
        "**2. 인접한 정점 탐색하기**\n",
        "\n",
        "현재 정점과 연결된 인접한 정점들을 확인하고, 아직 방문하지 않은 정점에 대해 깊이 우선 탐색을 수행합니다.\n",
        "\n",
        "**3. 재귀적 탐색 수행하기**\n",
        "\n",
        "탐색되지 않은 인접한 정점을 찾을 때마다, 해당 정점을 시작 정점으로 하여 깊이 우선 탐색을 재귀적으로 수행합니다.\n",
        "\n",
        "**4. 탐색 순서 기록하기**\n",
        "\n",
        "탐색 순서를 기록하기 위해 결과 리스트에 방문한 정점을 추가합니다."
      ],
      "metadata": {
        "id": "w9DNz42snsqD"
      }
    },
    {
      "cell_type": "code",
      "source": [
        "def dfs(graph, vertex, visited, result):\n",
        "    # 현재 정점을 방문한 것으로 표시합니다.\n",
        "    visited[vertex] = True\n",
        "    # 결과 리스트에 현재 정점을 추가합니다. 이를 통해 탐색 순서를 기록합니다.\n",
        "    result.append(vertex)\n",
        "\n",
        "    # 현재 정점과 인접한 정점들을 순회하면서\n",
        "    for i, value in enumerate(graph[vertex]):\n",
        "        # 만약 인접한 정점이며 아직 방문하지 않았다면\n",
        "        if value == 1 and not visited[i]:\n",
        "            # 해당 정점에 대해 재귀적으로 깊이 우선 탐색을 수행합니다.\n",
        "            dfs(graph, i, visited, result)\n",
        "\n",
        "# 그래프 정보 (인접 행렬), 1은 연결되어 있음을, 0은 연결되어 있지 않음을 나타냅니다.\n",
        "graph = [\n",
        "    [0, 1, 0, 0, 0, 0],\n",
        "    [1, 0, 1, 1, 1, 0],\n",
        "    [0, 1, 0, 0, 1, 0],\n",
        "    [0, 1, 0, 0, 1, 0],\n",
        "    [0, 1, 1, 1, 0, 1],\n",
        "    [0, 0, 0, 0, 1, 0]\n",
        "]\n",
        "\n",
        "# 시작 정점을 지정합니다. 이 경우 0번 정점에서 탐색을 시작합니다.\n",
        "start_vertex = 0\n",
        "\n",
        "# 방문 여부를 저장하는 리스트를 초기화합니다. 처음에는 모든 정점을 방문하지 않은 상태로 설정합니다.\n",
        "visited = [False] * len(graph)\n",
        "# 탐색 결과를 저장하는 리스트를 초기화합니다.\n",
        "result = []\n",
        "\n",
        "# 깊이 우선 탐색 함수를 호출하여 그래프를 탐색합니다.\n",
        "dfs(graph, start_vertex, visited, result)\n",
        "\n",
        "print(\"깊이 우선 탐색 순서:\")\n",
        "# 탐색 결과를 출력합니다. 이는 그래프의 정점을 깊이 우선 탐색한 순서입니다.\n",
        "print(*result)"
      ],
      "metadata": {
        "id": "HewrNP_Hntcd",
        "colab": {
          "base_uri": "https://localhost:8080/"
        },
        "outputId": "52154f91-2d7c-4d84-f171-d146f63d219e"
      },
      "execution_count": null,
      "outputs": [
        {
          "output_type": "stream",
          "name": "stdout",
          "text": [
            "깊이 우선 탐색 순서:\n",
            "0 1 2 4 3 5\n"
          ]
        }
      ]
    },
    {
      "cell_type": "markdown",
      "source": [
        "# ****그래프 깊이 우선 탐색 예제와 응용****"
      ],
      "metadata": {
        "id": "6OjxbeaTnuj4"
      }
    },
    {
      "cell_type": "markdown",
      "source": [
        "### **연결 요소 찾기**\n",
        "\n",
        "연결 요소는 그래프 내에서 서로 연결된 정점의 집합입니다. DFS를 사용하면 각 연결 요소를 쉽게 찾을 수 있습니다."
      ],
      "metadata": {
        "id": "kRy6_hR5nvZ_"
      }
    },
    {
      "cell_type": "code",
      "source": [
        "def find_components(graph):\n",
        "    visited = [False] * len(graph)\n",
        "    components = 0\n",
        "\n",
        "    for i in range(len(graph)):\n",
        "        if not visited[i]:\n",
        "            dfs(graph, i, visited)\n",
        "            components += 1\n",
        "\n",
        "    return components"
      ],
      "metadata": {
        "id": "ImIJ33pZnyOr"
      },
      "execution_count": null,
      "outputs": []
    },
    {
      "cell_type": "markdown",
      "source": [
        "### **사이클 검사**\n",
        "\n",
        "그래프 내에서 사이클이 있는지 여부를 확인하는 것도 DFS를 사용하여 할 수 있습니다."
      ],
      "metadata": {
        "id": "rGkz2qLynzIO"
      }
    },
    {
      "cell_type": "code",
      "source": [
        "def has_cycle(graph, vertex, visited, parent):\n",
        "    visited[vertex] = True\n",
        "\n",
        "    for i in graph[vertex]:\n",
        "        if not visited[i]:\n",
        "            if has_cycle(graph, i, visited, vertex):\n",
        "                return True\n",
        "        elif parent != i:\n",
        "            return True\n",
        "\n",
        "    return False"
      ],
      "metadata": {
        "id": "dh-7A-Hinz15"
      },
      "execution_count": null,
      "outputs": []
    },
    {
      "cell_type": "markdown",
      "source": [
        "### **웹 크롤링에 적용된 DFS**\n",
        "\n",
        "웹 페이지를 그래프로 변환하고, DFS를 사용하여 웹 크롤러를 만드는 방법을 살펴봅시다.\n",
        "\n",
        "1. 웹 페이지를 그래프로 표현합니다. 각 웹 페이지는 노드로 표현되며, 링크는 간선으로 표현됩니다.\n",
        "2. 크롤러의 시작점을 설정합니다. 이는 크롤링을 시작할 초기 웹 페이지입니다.\n",
        "3. DFS 알고리즘을 사용하여 그래프를 탐색합니다. 시작점에서 다음 웹 페이지로 이동하며, 새로운 웹 페이지를 크롤링합니다.\n",
        "4. 탐색 과정에서 현재 웹 페이지와 연결된 링크를 확인합니다. 방문하지 않은 링크를 선택하여, 해당 링크로 이동하여 새로운 웹 페이지를 크롤링합니다.\n",
        "5. 크롤링된 웹 페이지에서 필요한 정보를 추출하거나 다양한 작업을 수행합니다. 예를 들어, 웹 페이지의 제목, 본문 내용, 이미지, 하이퍼링크 등을 수집하거나 분석합니다.\n",
        "6. 탐색이 종료되면, 수집한 정보를 활용하여 원하는 목적에 맞는 작업을 수행합니다.\n",
        "\n",
        "아래 코드는, Python과 BeautifulSoup 라이브러리를 사용한 웹 크롤러를 구현한 코드입니다."
      ],
      "metadata": {
        "id": "iigb6hc5n2Ab"
      }
    },
    {
      "cell_type": "code",
      "source": [
        "import requests\n",
        "from bs4 import BeautifulSoup\n",
        "\n",
        "def web_crawler(url):\n",
        "\n",
        "    visited = set()\n",
        "\n",
        "    def dfs(current_url):\n",
        "        visited.add(current_url)\n",
        "        print(\"Crawling:\", current_url)\n",
        "\n",
        "# 웹 페이지 크롤링 수행 (여기서는 예시로 간단하게 링크 출력)\n",
        "        response = requests.get(current_url)\n",
        "        soup = BeautifulSoup(response.text, 'html.parser')\n",
        "        links = soup.find_all('a')\n",
        "        for link in links:\n",
        "            next_url = link.get('href')\n",
        "            if next_url and next_url not in visited:\n",
        "                dfs(next_url)\n",
        "\n",
        "    dfs(url)\n",
        "\n",
        "\n",
        "# 웹 크롤러 실행\n",
        "web_crawler(\"https://www.example.com\")\n"
      ],
      "metadata": {
        "id": "IAahbnS0n53h"
      },
      "execution_count": null,
      "outputs": []
    },
    {
      "cell_type": "markdown",
      "source": [
        "---\n",
        "\n",
        "# ****백트래킹과의 비교****"
      ],
      "metadata": {
        "id": "gaBQ3UvSn71B"
      }
    },
    {
      "cell_type": "markdown",
      "source": [
        "## **깊이 우선 탐색 (DFS)와 백트래킹 (Backtracking)**"
      ],
      "metadata": {
        "id": "C-b2eTnPn85_"
      }
    },
    {
      "cell_type": "markdown",
      "source": [
        "### **깊이 우선 탐색 (DFS)**\n",
        "\n",
        "DFS는 그래프에서 한 정점에서 시작하여 가능한 한 깊게 탐색하고, 더 이상 탐색할 정점이 없다면 이전 정점으로 되돌아가는 방식입니다."
      ],
      "metadata": {
        "id": "8MrbNeDrn-LX"
      }
    },
    {
      "cell_type": "markdown",
      "source": [
        "### **백트래킹 (Backtracking)**\n",
        "\n",
        "백트래킹은 해를 찾는 도중 해가 아니라고 판단되면, 되돌아가 다시 해를 찾는 기법입니다. 즉, 특정 부분의 답이 요구사항을 만족하지 않으면 그 부분을 버리고 이전 단계로 돌아갑니다."
      ],
      "metadata": {
        "id": "V24uybQpn-75"
      }
    },
    {
      "cell_type": "markdown",
      "source": [
        "### **차이점과 공통점**\n",
        "\n",
        "**공통점**\n",
        "\n",
        "- 둘 다 그래프를 깊게 탐색하는 기법입니다.\n",
        "- 재귀 호출을 사용할 수 있습니다.\n",
        "\n",
        "**차이점**\n",
        "\n",
        "- **목적**: DFS는 그래프의 모든 정점을 탐색하는 반면, 백트래킹은 특정 조건을 만족하는 경로나 해를 찾는 것이 목적입니다.\n",
        "- **프로세스**: 백트래킹은 해결책에 도달할 때까지 후보 해를 확장하다가 만족하지 않으면 이전 단계로 돌아갑니다. DFS는 그러한 제약 조건을 고려하지 않고 깊게 탐색합니다."
      ],
      "metadata": {
        "id": "n0Wnk2dRn_5u"
      }
    },
    {
      "cell_type": "markdown",
      "source": [
        "## **DFS를 이용한 백트래킹 알고리즘 설계 예시**\n",
        "\n",
        "끝말잇기 게임을 통해 백트래킹을 이용한 알고리즘 문제 해결을 설명드리겠습니다. 위 코드는 주어진 단어 목록에서 끝말잇기 게임의 규칙을 만족하는 최장 경로를 찾는 알고리즘입니다. 함께 살펴보며 이해해봅시다."
      ],
      "metadata": {
        "id": "-_MAk0xroA0Q"
      }
    },
    {
      "cell_type": "markdown",
      "source": [
        "### **1. 문제 설명**\n",
        "\n",
        "끝말잇기 게임에서는 이전 단어의 마지막 글자와 다음 단어의 첫 글자가 일치해야 합니다. 주어진 단어 목록에서 이 규칙을 만족하면서 가장 긴 연속된 단어 경로를 찾는 것이 목표입니다."
      ],
      "metadata": {
        "id": "1TxS6iW9oBn5"
      }
    },
    {
      "cell_type": "markdown",
      "source": [
        "### **2. 코드 설명**\n",
        "\n",
        "**a. `is_solution` 함수**\n",
        "\n",
        "- 이 함수는 현재 경로가 답인지 확인합니다.\n",
        "- 예를 들어, 특정 길이에 도달하면 완성된 답으로 볼 수 있습니다.\n",
        "\n",
        "**b. `is_valid` 함수**\n",
        "\n",
        "- 이 함수는 현재 경로에 단어를 추가할 수 있는지 확인합니다.\n",
        "- 끝말잇기 규칙에 따라 이전 단어의 마지막 글자와 현재 단어의 첫 글자가 일치해야 합니다.\n",
        "\n",
        "**c. `backtracking_dfs` 함수**\n",
        "\n",
        "- 주어진 단어 목록과 경로를 사용하여 끝말잇기 규칙을 만족하는 최장 경로를 찾습니다.\n",
        "- 단어가 유효하면 경로에 추가하고, 재귀 호출로 다음 단어를 찾습니다.\n",
        "- 해답을 찾으면 반환하고, 아니면 백트래킹하여 이전 단계로 돌아갑니다."
      ],
      "metadata": {
        "id": "3G8EblcpoCuo"
      }
    },
    {
      "cell_type": "markdown",
      "source": [],
      "metadata": {
        "id": "doYo-ccvoDjv"
      }
    },
    {
      "cell_type": "markdown",
      "source": [
        "### **3. 백트래킹으로 구현한 코드 예제**"
      ],
      "metadata": {
        "id": "v2dc3XYYoDlR"
      }
    },
    {
      "cell_type": "code",
      "source": [
        "def backtracking_dfs(words, path, used):\n",
        "    # 해답 조건을 검사하여 조건을 만족하면 현재 경로를 반환합니다.\n",
        "    if is_solution(path):\n",
        "        return path\n",
        "\n",
        "    # 단어 목록을 순회하며 탐색을 수행합니다.\n",
        "    for i, word in enumerate(words):\n",
        "        # 단어가 아직 사용되지 않았고, 경로에 유효하다면\n",
        "        if not used[i] and is_valid(path, word):\n",
        "            path.append(word) # 경로에 단어를 추가합니다.\n",
        "            used[i] = True    # 해당 단어를 사용했다고 표시합니다.\n",
        "\n",
        "            # 재귀 호출을 통해 더 깊게 탐색합니다.\n",
        "            result = backtracking_dfs(words, path, used)\n",
        "            if result:\n",
        "                return result\n",
        "\n",
        "            # 백트래킹 단계: 단어를 경로에서 제거하고, 사용하지 않았다고 표시합니다.\n",
        "            path.pop()\n",
        "            used[i] = False\n",
        "\n",
        "    # 해답을 찾지 못한 경우 None을 반환합니다.\n",
        "    return None\n",
        "\n",
        "def is_solution(path):\n",
        "    # 예시로, 경로의 길이가 5이면 해답으로 간주합니다.\n",
        "    return len(path) == 5\n",
        "\n",
        "def is_valid(path, word):\n",
        "    # 경로가 비어있으면 어떤 단어라도 유효합니다.\n",
        "    if not path: return True\n",
        "\n",
        "    # 마지막 단어의 끝 문자와 새 단어의 시작 문자가 같으면 유효합니다.\n",
        "    return path[-1][-1] == word[0]\n",
        "\n",
        "words = [\"grape\", \"tiger\", \"apple\", \"egg\", \"elephant\"] # 끝말잇기 게임에 사용할 단어 목록\n",
        "path = [] # 끝말잇기 경로를 저장할 리스트\n",
        "used = [False] * len(words) # 각 단어의 사용 여부를 저장할 리스트\n",
        "result = backtracking_dfs(words, path, used) # 백트래킹을 사용한 깊이 우선 탐색을 호출\n",
        "print(\"끝말잇기 경로:\", result) # 결과 출력"
      ],
      "metadata": {
        "id": "-ze-yU-zoETp"
      },
      "execution_count": null,
      "outputs": []
    }
  ]
}